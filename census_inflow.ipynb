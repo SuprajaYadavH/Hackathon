{
  "nbformat": 4,
  "nbformat_minor": 0,
  "metadata": {
    "colab": {
      "provenance": [],
      "authorship_tag": "ABX9TyPYrmp4uZelVaZoMTYR5ERg",
      "include_colab_link": true
    },
    "kernelspec": {
      "name": "python3",
      "display_name": "Python 3"
    },
    "language_info": {
      "name": "python"
    }
  },
  "cells": [
    {
      "cell_type": "markdown",
      "metadata": {
        "id": "view-in-github",
        "colab_type": "text"
      },
      "source": [
        "<a href=\"https://colab.research.google.com/github/SuprajaYadavH/Hackathon/blob/Chaithra/census_inflow.ipynb\" target=\"_parent\"><img src=\"https://colab.research.google.com/assets/colab-badge.svg\" alt=\"Open In Colab\"/></a>"
      ]
    },
    {
      "cell_type": "code",
      "execution_count": 12,
      "metadata": {
        "id": "_iOOaXKiQcGY"
      },
      "outputs": [],
      "source": [
        "import numpy as np\n",
        "import pandas as pd"
      ]
    },
    {
      "cell_type": "code",
      "source": [
        "from google.colab import drive"
      ],
      "metadata": {
        "id": "oGalSeITT_Bv"
      },
      "execution_count": 13,
      "outputs": []
    },
    {
      "cell_type": "code",
      "source": [
        "drive.mount(\"/content/drive\")"
      ],
      "metadata": {
        "colab": {
          "base_uri": "https://localhost:8080/"
        },
        "id": "0WkA1NN0WSKc",
        "outputId": "7e0c9876-2f9e-42bd-c68d-84ae03bbf1cc"
      },
      "execution_count": 14,
      "outputs": [
        {
          "output_type": "stream",
          "name": "stdout",
          "text": [
            "Drive already mounted at /content/drive; to attempt to forcibly remount, call drive.mount(\"/content/drive\", force_remount=True).\n"
          ]
        }
      ]
    },
    {
      "cell_type": "code",
      "source": [
        "df_2001=pd.read_excel(\"/content/drive/MyDrive/census inflow data/2001-PC01_D02_29.xls\",header=1, skiprows=[2, 3])"
      ],
      "metadata": {
        "id": "BfYZou2VS1R0"
      },
      "execution_count": 19,
      "outputs": []
    },
    {
      "cell_type": "code",
      "source": [
        "df_2001.head()"
      ],
      "metadata": {
        "colab": {
          "base_uri": "https://localhost:8080/",
          "height": 664
        },
        "id": "VA7OVKzOW8jh",
        "outputId": "727f57aa-71e4-4cb3-8305-b74f2e08b8f4"
      },
      "execution_count": 20,
      "outputs": [
        {
          "output_type": "execute_result",
          "data": {
            "text/plain": [
              "   Table  State Code  District Code                  Name  \\\n",
              "0  D0302        29.0            0.0  STATE - KARNATAKA 29   \n",
              "1  D0302        29.0            0.0  STATE - KARNATAKA 29   \n",
              "2  D0302        29.0            0.0  STATE - KARNATAKA 29   \n",
              "3  D0302        29.0            0.0  STATE - KARNATAKA 29   \n",
              "4  D0302        29.0            0.0  STATE - KARNATAKA 29   \n",
              "\n",
              "             Place of last residence Total/ Rural/ Urban  \\\n",
              "0                              Total               Total   \n",
              "1  Last residence elsewhere in India               Total   \n",
              "2  Last residence elsewhere in India               Total   \n",
              "3  Last residence elsewhere in India               Total   \n",
              "4  Last residence elsewhere in India               Rural   \n",
              "\n",
              "  Rural Urban  status of place of Enumeration  Total migrants  \\\n",
              "0                                       Urban       6253747.0   \n",
              "1                                       Total      16518648.0   \n",
              "2                                       Rural      10284475.0   \n",
              "3                                       Urban       6234173.0   \n",
              "4                                       Total      11272947.0   \n",
              "\n",
              "   Total migrants(male)  Total migrants(female)  ...  \\\n",
              "0             3013790.0               3239957.0  ...   \n",
              "1             5664248.0              10854400.0  ...   \n",
              "2             2661557.0               7622918.0  ...   \n",
              "3             3002691.0               3231482.0  ...   \n",
              "4             3161993.0               8110954.0  ...   \n",
              "\n",
              "   Duration of Residence In Place of Enumeration (5-9 years female)  \\\n",
              "0                                           498808.0                  \n",
              "1                                          1552144.0                  \n",
              "2                                          1054629.0                  \n",
              "3                                           497515.0                  \n",
              "4                                          1202259.0                  \n",
              "\n",
              "   Duration of Residence In Place of Enumeration (10-19 years total persons)  \\\n",
              "0                                          1249294.0                           \n",
              "1                                          3584091.0                           \n",
              "2                                          2337951.0                           \n",
              "3                                          1246140.0                           \n",
              "4                                          2771372.0                           \n",
              "\n",
              "   Duration of Residence In Place of Enumeration (10-19 years male)  \\\n",
              "0                                           553994.0                  \n",
              "1                                          1034016.0                  \n",
              "2                                           481718.0                  \n",
              "3                                           552298.0                  \n",
              "4                                           700648.0                  \n",
              "\n",
              "   Duration of Residence In Place of Enumeration (10-19 years female)  \\\n",
              "0                                           695300.0                    \n",
              "1                                          2550075.0                    \n",
              "2                                          1856233.0                    \n",
              "3                                           693842.0                    \n",
              "4                                          2070724.0                    \n",
              "\n",
              "   Duration of Residence In Place of Enumeration (20+ years total persons)  \\\n",
              "0                                          1351772.0                         \n",
              "1                                          4768283.0                         \n",
              "2                                          3419940.0                         \n",
              "3                                          1348343.0                         \n",
              "4                                          3902648.0                         \n",
              "\n",
              "   Duration of Residence In Place of Enumeration (20+ years male)  \\\n",
              "0                                           621671.0                \n",
              "1                                          1165585.0                \n",
              "2                                           545787.0                \n",
              "3                                           619798.0                \n",
              "4                                           802666.0                \n",
              "\n",
              "   Duration of Residence In Place of Enumeration (20+ years female)  \\\n",
              "0                                           730101.0                  \n",
              "1                                          3602698.0                  \n",
              "2                                          2874153.0                  \n",
              "3                                           728545.0                  \n",
              "4                                          3099982.0                  \n",
              "\n",
              "   Duration of Residence In Place of Enumeration (period not stated total persons)  \\\n",
              "0                                          1233852.0                                 \n",
              "1                                          2402277.0                                 \n",
              "2                                          1170384.0                                 \n",
              "3                                          1231893.0                                 \n",
              "4                                           472379.0                                 \n",
              "\n",
              "   Duration of Residence In Place of Enumeration (period not stated male)  \\\n",
              "0                                           647999.0                        \n",
              "1                                          1239052.0                        \n",
              "2                                           592141.0                        \n",
              "3                                           646911.0                        \n",
              "4                                           195081.0                        \n",
              "\n",
              "   Duration of Residence In Place of Enumeration (period not stated female)  \n",
              "0                                           585853.0                         \n",
              "1                                          1163225.0                         \n",
              "2                                           578243.0                         \n",
              "3                                           584982.0                         \n",
              "4                                           277298.0                         \n",
              "\n",
              "[5 rows x 28 columns]"
            ],
            "text/html": [
              "\n",
              "\n",
              "  <div id=\"df-7cfd648f-ed4b-47a7-bbd7-49c7c84e1d83\">\n",
              "    <div class=\"colab-df-container\">\n",
              "      <div>\n",
              "<style scoped>\n",
              "    .dataframe tbody tr th:only-of-type {\n",
              "        vertical-align: middle;\n",
              "    }\n",
              "\n",
              "    .dataframe tbody tr th {\n",
              "        vertical-align: top;\n",
              "    }\n",
              "\n",
              "    .dataframe thead th {\n",
              "        text-align: right;\n",
              "    }\n",
              "</style>\n",
              "<table border=\"1\" class=\"dataframe\">\n",
              "  <thead>\n",
              "    <tr style=\"text-align: right;\">\n",
              "      <th></th>\n",
              "      <th>Table</th>\n",
              "      <th>State Code</th>\n",
              "      <th>District Code</th>\n",
              "      <th>Name</th>\n",
              "      <th>Place of last residence</th>\n",
              "      <th>Total/ Rural/ Urban</th>\n",
              "      <th>Rural Urban  status of place of Enumeration</th>\n",
              "      <th>Total migrants</th>\n",
              "      <th>Total migrants(male)</th>\n",
              "      <th>Total migrants(female)</th>\n",
              "      <th>...</th>\n",
              "      <th>Duration of Residence In Place of Enumeration (5-9 years female)</th>\n",
              "      <th>Duration of Residence In Place of Enumeration (10-19 years total persons)</th>\n",
              "      <th>Duration of Residence In Place of Enumeration (10-19 years male)</th>\n",
              "      <th>Duration of Residence In Place of Enumeration (10-19 years female)</th>\n",
              "      <th>Duration of Residence In Place of Enumeration (20+ years total persons)</th>\n",
              "      <th>Duration of Residence In Place of Enumeration (20+ years male)</th>\n",
              "      <th>Duration of Residence In Place of Enumeration (20+ years female)</th>\n",
              "      <th>Duration of Residence In Place of Enumeration (period not stated total persons)</th>\n",
              "      <th>Duration of Residence In Place of Enumeration (period not stated male)</th>\n",
              "      <th>Duration of Residence In Place of Enumeration (period not stated female)</th>\n",
              "    </tr>\n",
              "  </thead>\n",
              "  <tbody>\n",
              "    <tr>\n",
              "      <th>0</th>\n",
              "      <td>D0302</td>\n",
              "      <td>29.0</td>\n",
              "      <td>0.0</td>\n",
              "      <td>STATE - KARNATAKA 29</td>\n",
              "      <td>Total</td>\n",
              "      <td>Total</td>\n",
              "      <td>Urban</td>\n",
              "      <td>6253747.0</td>\n",
              "      <td>3013790.0</td>\n",
              "      <td>3239957.0</td>\n",
              "      <td>...</td>\n",
              "      <td>498808.0</td>\n",
              "      <td>1249294.0</td>\n",
              "      <td>553994.0</td>\n",
              "      <td>695300.0</td>\n",
              "      <td>1351772.0</td>\n",
              "      <td>621671.0</td>\n",
              "      <td>730101.0</td>\n",
              "      <td>1233852.0</td>\n",
              "      <td>647999.0</td>\n",
              "      <td>585853.0</td>\n",
              "    </tr>\n",
              "    <tr>\n",
              "      <th>1</th>\n",
              "      <td>D0302</td>\n",
              "      <td>29.0</td>\n",
              "      <td>0.0</td>\n",
              "      <td>STATE - KARNATAKA 29</td>\n",
              "      <td>Last residence elsewhere in India</td>\n",
              "      <td>Total</td>\n",
              "      <td>Total</td>\n",
              "      <td>16518648.0</td>\n",
              "      <td>5664248.0</td>\n",
              "      <td>10854400.0</td>\n",
              "      <td>...</td>\n",
              "      <td>1552144.0</td>\n",
              "      <td>3584091.0</td>\n",
              "      <td>1034016.0</td>\n",
              "      <td>2550075.0</td>\n",
              "      <td>4768283.0</td>\n",
              "      <td>1165585.0</td>\n",
              "      <td>3602698.0</td>\n",
              "      <td>2402277.0</td>\n",
              "      <td>1239052.0</td>\n",
              "      <td>1163225.0</td>\n",
              "    </tr>\n",
              "    <tr>\n",
              "      <th>2</th>\n",
              "      <td>D0302</td>\n",
              "      <td>29.0</td>\n",
              "      <td>0.0</td>\n",
              "      <td>STATE - KARNATAKA 29</td>\n",
              "      <td>Last residence elsewhere in India</td>\n",
              "      <td>Total</td>\n",
              "      <td>Rural</td>\n",
              "      <td>10284475.0</td>\n",
              "      <td>2661557.0</td>\n",
              "      <td>7622918.0</td>\n",
              "      <td>...</td>\n",
              "      <td>1054629.0</td>\n",
              "      <td>2337951.0</td>\n",
              "      <td>481718.0</td>\n",
              "      <td>1856233.0</td>\n",
              "      <td>3419940.0</td>\n",
              "      <td>545787.0</td>\n",
              "      <td>2874153.0</td>\n",
              "      <td>1170384.0</td>\n",
              "      <td>592141.0</td>\n",
              "      <td>578243.0</td>\n",
              "    </tr>\n",
              "    <tr>\n",
              "      <th>3</th>\n",
              "      <td>D0302</td>\n",
              "      <td>29.0</td>\n",
              "      <td>0.0</td>\n",
              "      <td>STATE - KARNATAKA 29</td>\n",
              "      <td>Last residence elsewhere in India</td>\n",
              "      <td>Total</td>\n",
              "      <td>Urban</td>\n",
              "      <td>6234173.0</td>\n",
              "      <td>3002691.0</td>\n",
              "      <td>3231482.0</td>\n",
              "      <td>...</td>\n",
              "      <td>497515.0</td>\n",
              "      <td>1246140.0</td>\n",
              "      <td>552298.0</td>\n",
              "      <td>693842.0</td>\n",
              "      <td>1348343.0</td>\n",
              "      <td>619798.0</td>\n",
              "      <td>728545.0</td>\n",
              "      <td>1231893.0</td>\n",
              "      <td>646911.0</td>\n",
              "      <td>584982.0</td>\n",
              "    </tr>\n",
              "    <tr>\n",
              "      <th>4</th>\n",
              "      <td>D0302</td>\n",
              "      <td>29.0</td>\n",
              "      <td>0.0</td>\n",
              "      <td>STATE - KARNATAKA 29</td>\n",
              "      <td>Last residence elsewhere in India</td>\n",
              "      <td>Rural</td>\n",
              "      <td>Total</td>\n",
              "      <td>11272947.0</td>\n",
              "      <td>3161993.0</td>\n",
              "      <td>8110954.0</td>\n",
              "      <td>...</td>\n",
              "      <td>1202259.0</td>\n",
              "      <td>2771372.0</td>\n",
              "      <td>700648.0</td>\n",
              "      <td>2070724.0</td>\n",
              "      <td>3902648.0</td>\n",
              "      <td>802666.0</td>\n",
              "      <td>3099982.0</td>\n",
              "      <td>472379.0</td>\n",
              "      <td>195081.0</td>\n",
              "      <td>277298.0</td>\n",
              "    </tr>\n",
              "  </tbody>\n",
              "</table>\n",
              "<p>5 rows × 28 columns</p>\n",
              "</div>\n",
              "      <button class=\"colab-df-convert\" onclick=\"convertToInteractive('df-7cfd648f-ed4b-47a7-bbd7-49c7c84e1d83')\"\n",
              "              title=\"Convert this dataframe to an interactive table.\"\n",
              "              style=\"display:none;\">\n",
              "\n",
              "  <svg xmlns=\"http://www.w3.org/2000/svg\" height=\"24px\"viewBox=\"0 0 24 24\"\n",
              "       width=\"24px\">\n",
              "    <path d=\"M0 0h24v24H0V0z\" fill=\"none\"/>\n",
              "    <path d=\"M18.56 5.44l.94 2.06.94-2.06 2.06-.94-2.06-.94-.94-2.06-.94 2.06-2.06.94zm-11 1L8.5 8.5l.94-2.06 2.06-.94-2.06-.94L8.5 2.5l-.94 2.06-2.06.94zm10 10l.94 2.06.94-2.06 2.06-.94-2.06-.94-.94-2.06-.94 2.06-2.06.94z\"/><path d=\"M17.41 7.96l-1.37-1.37c-.4-.4-.92-.59-1.43-.59-.52 0-1.04.2-1.43.59L10.3 9.45l-7.72 7.72c-.78.78-.78 2.05 0 2.83L4 21.41c.39.39.9.59 1.41.59.51 0 1.02-.2 1.41-.59l7.78-7.78 2.81-2.81c.8-.78.8-2.07 0-2.86zM5.41 20L4 18.59l7.72-7.72 1.47 1.35L5.41 20z\"/>\n",
              "  </svg>\n",
              "      </button>\n",
              "\n",
              "\n",
              "\n",
              "    <div id=\"df-105a2272-bae2-4cd3-bc2c-1bf463bd499c\">\n",
              "      <button class=\"colab-df-quickchart\" onclick=\"quickchart('df-105a2272-bae2-4cd3-bc2c-1bf463bd499c')\"\n",
              "              title=\"Suggest charts.\"\n",
              "              style=\"display:none;\">\n",
              "\n",
              "<svg xmlns=\"http://www.w3.org/2000/svg\" height=\"24px\"viewBox=\"0 0 24 24\"\n",
              "     width=\"24px\">\n",
              "    <g>\n",
              "        <path d=\"M19 3H5c-1.1 0-2 .9-2 2v14c0 1.1.9 2 2 2h14c1.1 0 2-.9 2-2V5c0-1.1-.9-2-2-2zM9 17H7v-7h2v7zm4 0h-2V7h2v10zm4 0h-2v-4h2v4z\"/>\n",
              "    </g>\n",
              "</svg>\n",
              "      </button>\n",
              "    </div>\n",
              "\n",
              "<style>\n",
              "  .colab-df-quickchart {\n",
              "    background-color: #E8F0FE;\n",
              "    border: none;\n",
              "    border-radius: 50%;\n",
              "    cursor: pointer;\n",
              "    display: none;\n",
              "    fill: #1967D2;\n",
              "    height: 32px;\n",
              "    padding: 0 0 0 0;\n",
              "    width: 32px;\n",
              "  }\n",
              "\n",
              "  .colab-df-quickchart:hover {\n",
              "    background-color: #E2EBFA;\n",
              "    box-shadow: 0px 1px 2px rgba(60, 64, 67, 0.3), 0px 1px 3px 1px rgba(60, 64, 67, 0.15);\n",
              "    fill: #174EA6;\n",
              "  }\n",
              "\n",
              "  [theme=dark] .colab-df-quickchart {\n",
              "    background-color: #3B4455;\n",
              "    fill: #D2E3FC;\n",
              "  }\n",
              "\n",
              "  [theme=dark] .colab-df-quickchart:hover {\n",
              "    background-color: #434B5C;\n",
              "    box-shadow: 0px 1px 3px 1px rgba(0, 0, 0, 0.15);\n",
              "    filter: drop-shadow(0px 1px 2px rgba(0, 0, 0, 0.3));\n",
              "    fill: #FFFFFF;\n",
              "  }\n",
              "</style>\n",
              "\n",
              "    <script>\n",
              "      async function quickchart(key) {\n",
              "        const containerElement = document.querySelector('#' + key);\n",
              "        const charts = await google.colab.kernel.invokeFunction(\n",
              "            'suggestCharts', [key], {});\n",
              "      }\n",
              "    </script>\n",
              "\n",
              "\n",
              "      <script>\n",
              "\n",
              "function displayQuickchartButton(domScope) {\n",
              "  let quickchartButtonEl =\n",
              "    domScope.querySelector('#df-105a2272-bae2-4cd3-bc2c-1bf463bd499c button.colab-df-quickchart');\n",
              "  quickchartButtonEl.style.display =\n",
              "    google.colab.kernel.accessAllowed ? 'block' : 'none';\n",
              "}\n",
              "\n",
              "        displayQuickchartButton(document);\n",
              "      </script>\n",
              "      <style>\n",
              "    .colab-df-container {\n",
              "      display:flex;\n",
              "      flex-wrap:wrap;\n",
              "      gap: 12px;\n",
              "    }\n",
              "\n",
              "    .colab-df-convert {\n",
              "      background-color: #E8F0FE;\n",
              "      border: none;\n",
              "      border-radius: 50%;\n",
              "      cursor: pointer;\n",
              "      display: none;\n",
              "      fill: #1967D2;\n",
              "      height: 32px;\n",
              "      padding: 0 0 0 0;\n",
              "      width: 32px;\n",
              "    }\n",
              "\n",
              "    .colab-df-convert:hover {\n",
              "      background-color: #E2EBFA;\n",
              "      box-shadow: 0px 1px 2px rgba(60, 64, 67, 0.3), 0px 1px 3px 1px rgba(60, 64, 67, 0.15);\n",
              "      fill: #174EA6;\n",
              "    }\n",
              "\n",
              "    [theme=dark] .colab-df-convert {\n",
              "      background-color: #3B4455;\n",
              "      fill: #D2E3FC;\n",
              "    }\n",
              "\n",
              "    [theme=dark] .colab-df-convert:hover {\n",
              "      background-color: #434B5C;\n",
              "      box-shadow: 0px 1px 3px 1px rgba(0, 0, 0, 0.15);\n",
              "      filter: drop-shadow(0px 1px 2px rgba(0, 0, 0, 0.3));\n",
              "      fill: #FFFFFF;\n",
              "    }\n",
              "  </style>\n",
              "\n",
              "      <script>\n",
              "        const buttonEl =\n",
              "          document.querySelector('#df-7cfd648f-ed4b-47a7-bbd7-49c7c84e1d83 button.colab-df-convert');\n",
              "        buttonEl.style.display =\n",
              "          google.colab.kernel.accessAllowed ? 'block' : 'none';\n",
              "\n",
              "        async function convertToInteractive(key) {\n",
              "          const element = document.querySelector('#df-7cfd648f-ed4b-47a7-bbd7-49c7c84e1d83');\n",
              "          const dataTable =\n",
              "            await google.colab.kernel.invokeFunction('convertToInteractive',\n",
              "                                                     [key], {});\n",
              "          if (!dataTable) return;\n",
              "\n",
              "          const docLinkHtml = 'Like what you see? Visit the ' +\n",
              "            '<a target=\"_blank\" href=https://colab.research.google.com/notebooks/data_table.ipynb>data table notebook</a>'\n",
              "            + ' to learn more about interactive tables.';\n",
              "          element.innerHTML = '';\n",
              "          dataTable['output_type'] = 'display_data';\n",
              "          await google.colab.output.renderOutput(dataTable, element);\n",
              "          const docLink = document.createElement('div');\n",
              "          docLink.innerHTML = docLinkHtml;\n",
              "          element.appendChild(docLink);\n",
              "        }\n",
              "      </script>\n",
              "    </div>\n",
              "  </div>\n"
            ]
          },
          "metadata": {},
          "execution_count": 20
        }
      ]
    },
    {
      "cell_type": "code",
      "source": [
        "df_2001.shape"
      ],
      "metadata": {
        "id": "VAZ73tjMXDwR",
        "colab": {
          "base_uri": "https://localhost:8080/"
        },
        "outputId": "b0f9360a-c7f3-44f5-cd94-8ea1812f4feb"
      },
      "execution_count": 21,
      "outputs": [
        {
          "output_type": "execute_result",
          "data": {
            "text/plain": [
              "(14028, 28)"
            ]
          },
          "metadata": {},
          "execution_count": 21
        }
      ]
    },
    {
      "cell_type": "code",
      "source": [
        "df_2001.info()"
      ],
      "metadata": {
        "colab": {
          "base_uri": "https://localhost:8080/"
        },
        "id": "vT87rdnNfJt6",
        "outputId": "137829f2-373b-4fc0-8dd8-f006a098ba7a"
      },
      "execution_count": 22,
      "outputs": [
        {
          "output_type": "stream",
          "name": "stdout",
          "text": [
            "<class 'pandas.core.frame.DataFrame'>\n",
            "RangeIndex: 14028 entries, 0 to 14027\n",
            "Data columns (total 28 columns):\n",
            " #   Column                                                                           Non-Null Count  Dtype  \n",
            "---  ------                                                                           --------------  -----  \n",
            " 0   Table                                                                            14027 non-null  object \n",
            " 1   State Code                                                                       14026 non-null  float64\n",
            " 2   District Code                                                                    14026 non-null  float64\n",
            " 3   Name                                                                             14026 non-null  object \n",
            " 4   Place of last residence                                                          14026 non-null  object \n",
            " 5   Total/ Rural/ Urban                                                              14026 non-null  object \n",
            " 6   Rural Urban  status of place of Enumeration                                      14026 non-null  object \n",
            " 7   Total migrants                                                                   14026 non-null  float64\n",
            " 8   Total migrants(male)                                                             14026 non-null  float64\n",
            " 9   Total migrants(female)                                                           14026 non-null  float64\n",
            " 10  Duration of Residence In Place of Enumeration (less than 1 year total persons)   14026 non-null  float64\n",
            " 11  Duration of Residence In Place of Enumeration (less than 1 year male)            14026 non-null  float64\n",
            " 12  Duration of Residence In Place of Enumeration (less than 1 year female)          14026 non-null  float64\n",
            " 13  Duration of Residence In Place of Enumeration (1-4 years total persons)          14026 non-null  float64\n",
            " 14  Duration of Residence In Place of Enumeration (1-4 years male)                   14026 non-null  float64\n",
            " 15  Duration of Residence In Place of Enumeration (1-4 years female)                 14026 non-null  float64\n",
            " 16  Duration of Residence In Place of Enumeration (5-9 years total persons)          14026 non-null  float64\n",
            " 17  Duration of Residence In Place of Enumeration (5-9 years male)                   14026 non-null  float64\n",
            " 18  Duration of Residence In Place of Enumeration (5-9 years female)                 14026 non-null  float64\n",
            " 19  Duration of Residence In Place of Enumeration (10-19 years total persons)        14026 non-null  float64\n",
            " 20  Duration of Residence In Place of Enumeration (10-19 years male)                 14026 non-null  float64\n",
            " 21  Duration of Residence In Place of Enumeration (10-19 years female)               14026 non-null  float64\n",
            " 22  Duration of Residence In Place of Enumeration (20+ years total persons)          14026 non-null  float64\n",
            " 23  Duration of Residence In Place of Enumeration (20+ years male)                   14026 non-null  float64\n",
            " 24  Duration of Residence In Place of Enumeration (20+ years female)                 14026 non-null  float64\n",
            " 25  Duration of Residence In Place of Enumeration (period not stated total persons)  14026 non-null  float64\n",
            " 26  Duration of Residence In Place of Enumeration (period not stated male)           14026 non-null  float64\n",
            " 27  Duration of Residence In Place of Enumeration (period not stated female)         14026 non-null  float64\n",
            "dtypes: float64(23), object(5)\n",
            "memory usage: 3.0+ MB\n"
          ]
        }
      ]
    },
    {
      "cell_type": "code",
      "source": [
        "df_2001.isnull().sum()"
      ],
      "metadata": {
        "colab": {
          "base_uri": "https://localhost:8080/"
        },
        "id": "eA7ZT_k8fLS-",
        "outputId": "401b08a1-fba3-4755-937b-7671fa5c68e1"
      },
      "execution_count": 23,
      "outputs": [
        {
          "output_type": "execute_result",
          "data": {
            "text/plain": [
              "Table                                                                              1\n",
              "State Code                                                                         2\n",
              "District Code                                                                      2\n",
              "Name                                                                               2\n",
              "Place of last residence                                                            2\n",
              "Total/ Rural/ Urban                                                                2\n",
              "Rural Urban  status of place of Enumeration                                        2\n",
              "Total migrants                                                                     2\n",
              "Total migrants(male)                                                               2\n",
              "Total migrants(female)                                                             2\n",
              "Duration of Residence In Place of Enumeration (less than 1 year total persons)     2\n",
              "Duration of Residence In Place of Enumeration (less than 1 year male)              2\n",
              "Duration of Residence In Place of Enumeration (less than 1 year female)            2\n",
              "Duration of Residence In Place of Enumeration (1-4 years total persons)            2\n",
              "Duration of Residence In Place of Enumeration (1-4 years male)                     2\n",
              "Duration of Residence In Place of Enumeration (1-4 years female)                   2\n",
              "Duration of Residence In Place of Enumeration (5-9 years total persons)            2\n",
              "Duration of Residence In Place of Enumeration (5-9 years male)                     2\n",
              "Duration of Residence In Place of Enumeration (5-9 years female)                   2\n",
              "Duration of Residence In Place of Enumeration (10-19 years total persons)          2\n",
              "Duration of Residence In Place of Enumeration (10-19 years male)                   2\n",
              "Duration of Residence In Place of Enumeration (10-19 years female)                 2\n",
              "Duration of Residence In Place of Enumeration (20+ years total persons)            2\n",
              "Duration of Residence In Place of Enumeration (20+ years male)                     2\n",
              "Duration of Residence In Place of Enumeration (20+ years female)                   2\n",
              "Duration of Residence In Place of Enumeration (period not stated total persons)    2\n",
              "Duration of Residence In Place of Enumeration (period not stated male)             2\n",
              "Duration of Residence In Place of Enumeration (period not stated female)           2\n",
              "dtype: int64"
            ]
          },
          "metadata": {},
          "execution_count": 23
        }
      ]
    },
    {
      "cell_type": "code",
      "source": [
        "df_2001= df_2001.dropna()"
      ],
      "metadata": {
        "id": "aFJU4nOmfbL5"
      },
      "execution_count": 24,
      "outputs": []
    },
    {
      "cell_type": "code",
      "source": [
        "df_2001 = df_2001.fillna(0)\n",
        "df_2001 = df_2001.fillna(df_2001.mean())"
      ],
      "metadata": {
        "colab": {
          "base_uri": "https://localhost:8080/"
        },
        "id": "v1lr2qBKfdrz",
        "outputId": "12d27736-9f60-4610-a7be-daf48b7fca9f"
      },
      "execution_count": 25,
      "outputs": [
        {
          "output_type": "stream",
          "name": "stderr",
          "text": [
            "<ipython-input-25-0396afc2100c>:2: FutureWarning: The default value of numeric_only in DataFrame.mean is deprecated. In a future version, it will default to False. In addition, specifying 'numeric_only=None' is deprecated. Select only valid columns or specify the value of numeric_only to silence this warning.\n",
            "  df_2001 = df_2001.fillna(df_2001.mean())\n"
          ]
        }
      ]
    },
    {
      "cell_type": "code",
      "source": [
        "df_2001.isnull().sum()"
      ],
      "metadata": {
        "colab": {
          "base_uri": "https://localhost:8080/"
        },
        "id": "pnCrboHlff8n",
        "outputId": "880cb1ad-6eeb-4658-d325-e489bf48b910"
      },
      "execution_count": 26,
      "outputs": [
        {
          "output_type": "execute_result",
          "data": {
            "text/plain": [
              "Table                                                                              0\n",
              "State Code                                                                         0\n",
              "District Code                                                                      0\n",
              "Name                                                                               0\n",
              "Place of last residence                                                            0\n",
              "Total/ Rural/ Urban                                                                0\n",
              "Rural Urban  status of place of Enumeration                                        0\n",
              "Total migrants                                                                     0\n",
              "Total migrants(male)                                                               0\n",
              "Total migrants(female)                                                             0\n",
              "Duration of Residence In Place of Enumeration (less than 1 year total persons)     0\n",
              "Duration of Residence In Place of Enumeration (less than 1 year male)              0\n",
              "Duration of Residence In Place of Enumeration (less than 1 year female)            0\n",
              "Duration of Residence In Place of Enumeration (1-4 years total persons)            0\n",
              "Duration of Residence In Place of Enumeration (1-4 years male)                     0\n",
              "Duration of Residence In Place of Enumeration (1-4 years female)                   0\n",
              "Duration of Residence In Place of Enumeration (5-9 years total persons)            0\n",
              "Duration of Residence In Place of Enumeration (5-9 years male)                     0\n",
              "Duration of Residence In Place of Enumeration (5-9 years female)                   0\n",
              "Duration of Residence In Place of Enumeration (10-19 years total persons)          0\n",
              "Duration of Residence In Place of Enumeration (10-19 years male)                   0\n",
              "Duration of Residence In Place of Enumeration (10-19 years female)                 0\n",
              "Duration of Residence In Place of Enumeration (20+ years total persons)            0\n",
              "Duration of Residence In Place of Enumeration (20+ years male)                     0\n",
              "Duration of Residence In Place of Enumeration (20+ years female)                   0\n",
              "Duration of Residence In Place of Enumeration (period not stated total persons)    0\n",
              "Duration of Residence In Place of Enumeration (period not stated male)             0\n",
              "Duration of Residence In Place of Enumeration (period not stated female)           0\n",
              "dtype: int64"
            ]
          },
          "metadata": {},
          "execution_count": 26
        }
      ]
    },
    {
      "cell_type": "code",
      "source": [],
      "metadata": {
        "id": "80AuWL_lfjs2"
      },
      "execution_count": null,
      "outputs": []
    }
  ]
}